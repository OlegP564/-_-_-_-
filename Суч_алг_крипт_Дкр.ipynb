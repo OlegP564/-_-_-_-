{
  "nbformat": 4,
  "nbformat_minor": 0,
  "metadata": {
    "colab": {
      "provenance": [],
      "authorship_tag": "ABX9TyMpFgVZoz3nKDMMI6AHAjj9",
      "include_colab_link": true
    },
    "kernelspec": {
      "name": "python3",
      "display_name": "Python 3"
    },
    "language_info": {
      "name": "python"
    }
  },
  "cells": [
    {
      "cell_type": "markdown",
      "metadata": {
        "id": "view-in-github",
        "colab_type": "text"
      },
      "source": [
        "<a href=\"https://colab.research.google.com/github/OlegP564/modern-algebraic-cryptosystems/blob/main/%D0%A1%D1%83%D1%87_%D0%B0%D0%BB%D0%B3_%D0%BA%D1%80%D0%B8%D0%BF%D1%82_%D0%94%D0%BA%D1%80.ipynb\" target=\"_parent\"><img src=\"https://colab.research.google.com/assets/colab-badge.svg\" alt=\"Open In Colab\"/></a>"
      ]
    },
    {
      "cell_type": "code",
      "source": [
        "def gcdExtended(a, b):\n",
        "    if a == 0 :\n",
        "        return b,0,1\n",
        "    gcd,x1,y1 = gcdExtended(b%a, a)\n",
        "    x = y1 - (b//a) * x1\n",
        "    y = x1\n",
        "    return gcd,x,y # обчислюємо найбільший спільний дільник\n",
        "\n",
        "def inverted (a, n):\n",
        "  gcd, x, y = gcdExtended(a, n)\n",
        "  if gcd == 1:\n",
        "    return ((x % n + n) % n) # обчислюємо (а^-1) mod n\n",
        "  else:\n",
        "    print(\"eror\")\n",
        "    return (-1)"
      ],
      "metadata": {
        "id": "qjMaLR87R3uJ"
      },
      "execution_count": 295,
      "outputs": []
    },
    {
      "cell_type": "code",
      "source": [
        "def ord(xp,yp):\n",
        "  xtemp, ytemp =TandT(xp,yp)\n",
        "  for i in range (700):\n",
        "    if TandQ(xp,yp,xtemp,ytemp)==(0,0):\n",
        "      return i+3\n",
        "    xtemp, ytemp = TandQ(xp,yp,xtemp,ytemp)\n",
        "\n",
        "print(\"ord P =\",ord(617,626))\n",
        "print(\"ord Q =\",ord(420,48))"
      ],
      "metadata": {
        "colab": {
          "base_uri": "https://localhost:8080/"
        },
        "id": "ahxQhgXwcxtN",
        "outputId": "bb479b13-6d50-4cb8-ad2a-af9a998d84b0"
      },
      "execution_count": 423,
      "outputs": [
        {
          "output_type": "stream",
          "name": "stdout",
          "text": [
            "zero!\n",
            "ord P = 5\n",
            "zero!\n",
            "ord Q = 5\n"
          ]
        }
      ]
    },
    {
      "cell_type": "code",
      "source": [
        "def vpd (xp,yp, xd, yd): #рівняння вертикальної прямої в точці хр в яке підставляємо значення xd, yd.\n",
        "  ans =(xd-xp)%631\n",
        "  return ans"
      ],
      "metadata": {
        "id": "xmpEGr9VNWfS"
      },
      "execution_count": 397,
      "outputs": []
    },
    {
      "cell_type": "code",
      "source": [
        "def Ipqd (xp, yp, xq, yq, xd,yd): #рівняння прямої через 2 точки в яке підставляємо значення xd, yd.\n",
        "  if xp==xq: #якщо це вертикальна пряма, то користуємось def vpd\n",
        "    return(vpd(xp,yp, xd, yd))\n",
        "  ans = (-((xd-xp)*inverted((xq-xp)%631,631))*(yq-yp)-yp+yd)%631\n",
        "  return ans"
      ],
      "metadata": {
        "id": "xeDan3anNWTW"
      },
      "execution_count": 407,
      "outputs": []
    },
    {
      "cell_type": "code",
      "source": [
        "def Ipp (xp, yp, xd, yd): #рівняння дотичної в точці хр, ур в яке підставляємо значення xd, yd.\n",
        "  q2x, q2y=(TandT(xp,yp))\n",
        "  q3x, q3y=(TandQ(q2x,q2y,xp,yp)) # користуючись тим що порядок точки5, знаходимо іншу точку кривої, що лежить на дотичній, як [5](xp,yp)-[2](xp,yp)=[3](xp,yp)\n",
        "  ans = Ipqd(q3x,q3y,xp,yp,xd,yd)%631 # знаючі дві точки будуємо через них пряму, як ми вже вміємо та підставляємо в неї значення xd, yd.\n",
        "  return(ans)"
      ],
      "metadata": {
        "id": "ID7rqZYoqtKP"
      },
      "execution_count": 408,
      "outputs": []
    },
    {
      "cell_type": "code",
      "source": [
        "def TandQ (x1,y1,x2,y2): # додавання різних точок\n",
        "  x1,y1,x2,y2=x1%631,y1%631,x2%631,y2%631\n",
        "  if x1==x2 and y1==631-y2:\n",
        "    print (\"zero!\")\n",
        "    return(0,0) # якщо додаємо протилежні\n",
        "  if x1==0 and y1==0: # якщо додаємо до нуля\n",
        "    return(x2,y2)\n",
        "  if x2==0 and y2==0:  # якщо додаємо нуль\n",
        "    return(x1,y1)\n",
        "  x = (((y2-y1)*inverted((x2-x1)%631,631))**2-x1-x2)%631\n",
        "  y= (-y1+((y2-y1)*inverted((x2-x1)%631,631))*(x1-x))%631\n",
        "  return(x,y)"
      ],
      "metadata": {
        "id": "ZY7d1bW8brBW"
      },
      "execution_count": 333,
      "outputs": []
    },
    {
      "cell_type": "code",
      "source": [
        "def TandT(x1,y1):  # подвоюємо\n",
        "  x= (((3*(x1**2)+30)*inverted((2*y1)%631,631))**2-2*x1)%631\n",
        "  y= (-y1+((3*(x1**2)+30)*inverted((2*y1)%631,631))*(x1-x))%631\n",
        "  return(x,y)"
      ],
      "metadata": {
        "id": "-Z2YD1AAdFpi"
      },
      "execution_count": 140,
      "outputs": []
    },
    {
      "cell_type": "code",
      "source": [
        "def Miller (nbin,xp,yp,xd,yd):  # алгоритм Міллера\n",
        "  xt = xp\n",
        "  yt = yp\n",
        "  f = 1\n",
        "  for i in range(int(len(str(nbin))-1)):\n",
        "    xtemp, ytemp = TandT(xt,yt)\n",
        "    f = ((f**2)*Ipp(xt, yt, xd, yd)*inverted((vpd(xtemp, ytemp, xd, yd))%631,631))%631\n",
        "    xt, yt = TandT(xt,yt)\n",
        "    if int((str(nbin)[len(str(nbin))-1-i]))==1:\n",
        "      xtemp, ytemp = TandQ(xt, yt, xp, yp)\n",
        "      f = (f*Ipqd(xt, yt, xp, yp, xd, yd)*inverted((vpd(xtemp, ytemp, xd, yd))%631,631))%631\n",
        "      xt, yt = TandQ(xt, yt, xp, yp)\n",
        "  return f"
      ],
      "metadata": {
        "id": "VwkNcjm9eD2R"
      },
      "execution_count": 404,
      "outputs": []
    },
    {
      "cell_type": "code",
      "source": [
        "qrx,qry=(TandQ(420,48,0,36)) #(Q+R)\n",
        "prx, pry = (TandQ(617,626,0,595))#(P-R)\n",
        "\n",
        "print(\"f5,P(Q+R) =\",Miller(101, 617, 626, qrx, qry)) # f5,P(Q+R)\n",
        "print(\"f5,Q(P-R) =\",Miller(101, 420, 48, prx, pry)) # f5,Q(P-R)\n",
        "print(\"f5,P(R) =\",Miller(101, 617, 626, 0, 36)) # f5,P(R)\n",
        "print(\"f5,Q(-R) =\",Miller(101, 420, 48, 0, 595)) # f5,Q(-R)\n",
        "\n",
        "print(\"f5,P(Q+R)/f5,P(R) =\",((324*inverted(185,631))%631)) # f5,P(Q+R)/f5,P(R)\n",
        "print(\"f5,Q(P-R)/f5,Q(-R) =\",((486*inverted(269,631))%631)) # f5,Q(P-R)/f5,Q(-R)\n",
        "print(\"f5,P(Q+R)/f5,P(R) / f5,Q(P-R)/f5,Q(-R) =\",(585*inverted(417,631))%631) # f5,P(Q+R)/f5,P(R) / f5,Q(P-R)/f5,Q(-R)\n",
        "print(\"перевірка 242^5(mod631) =\",pow(242,5,631))# перевірка\n"
      ],
      "metadata": {
        "colab": {
          "base_uri": "https://localhost:8080/"
        },
        "id": "rzEuqhMjhVut",
        "outputId": "3a095b57-1f25-4291-f27a-60a5ea823b52"
      },
      "execution_count": 422,
      "outputs": [
        {
          "output_type": "stream",
          "name": "stdout",
          "text": [
            "f5,P(Q+R) = 324\n",
            "f5,Q(P-R) = 486\n",
            "f5,P(R) = 185\n",
            "f5,Q(-R) = 269\n",
            "f5,P(Q+R)/f5,P(R) = 585\n",
            "f5,Q(P-R)/f5,Q(-R) = 417\n",
            "f5,P(Q+R)/f5,P(R) / f5,Q(P-R)/f5,Q(-R) = 242\n",
            "перевірка 242^5(mod631) = 1\n"
          ]
        }
      ]
    }
  ]
}